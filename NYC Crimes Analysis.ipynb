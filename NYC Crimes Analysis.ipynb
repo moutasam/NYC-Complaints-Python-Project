{
 "cells": [
  {
   "cell_type": "markdown",
   "id": "7e079666",
   "metadata": {},
   "source": [
    "# The NYC Crime Rate Analysis Project\n",
    "\n",
    "## The Aim of Project : this project aims basically to study the complaints data , and try to provide a depped analysis about certain type of questions and situation related to the type of complaints and the different type of demographic indicators .\n"
   ]
  },
  {
   "cell_type": "markdown",
   "id": "386344d0",
   "metadata": {},
   "source": [
    "# # The Data Set : \n",
    "\n",
    "## the data set in named \"NYPD Complaint Data Historic\" which is provided by NYC open data website acessed through the link : https://data.cityofnewyork.us/Public-Safety/NYPD-Complaint-Data-Historic/qgea-i56i\n",
    "\n",
    "## This dataset includes all valid felony, misdemeanor, and violation crimes reported to the New York City Police Department (NYPD) from 2006 to the end of last year (2019). \n",
    "\n",
    "## it consists of one raw data file with the size of 2.75 GB ."
   ]
  }
 ],
 "metadata": {
  "kernelspec": {
   "display_name": "Python 3 (ipykernel)",
   "language": "python",
   "name": "python3"
  },
  "language_info": {
   "codemirror_mode": {
    "name": "ipython",
    "version": 3
   },
   "file_extension": ".py",
   "mimetype": "text/x-python",
   "name": "python",
   "nbconvert_exporter": "python",
   "pygments_lexer": "ipython3",
   "version": "3.9.12"
  }
 },
 "nbformat": 4,
 "nbformat_minor": 5
}
